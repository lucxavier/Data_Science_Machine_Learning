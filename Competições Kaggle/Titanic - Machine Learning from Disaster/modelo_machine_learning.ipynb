{
 "metadata": {
  "language_info": {
   "codemirror_mode": {
    "name": "ipython",
    "version": 3
   },
   "file_extension": ".py",
   "mimetype": "text/x-python",
   "name": "python",
   "nbconvert_exporter": "python",
   "pygments_lexer": "ipython3",
   "version": "3.8.8"
  },
  "orig_nbformat": 2,
  "kernelspec": {
   "name": "python3",
   "display_name": "Python 3.8.8 64-bit ('base': conda)"
  },
  "interpreter": {
   "hash": "513dc2e41d739bb2c947903f3c0bbf636d03aa53ab50e61c694a27481c81805e"
  }
 },
 "nbformat": 4,
 "nbformat_minor": 2,
 "cells": [
  {
   "source": [
    "## DICIONÁRIO DOS DADOS ##\n",
    "- PassengerId é o id único da linha e não tem nenhum efeito no alvo\n",
    "- Sobrevivido é a variável alvo que estamos tentando prever (0 ou 1):\n",
    "    - 1 = sobrevivido\n",
    "    - 0 = Não Sobreviveu\n",
    "- Pclass (Classe de Passageiro) é o status socioeconômico do passageiro e é uma característica ordinal categórica que possui 3 valores únicos (1, 2 ou 3):\n",
    "    - 1 = classe alta\n",
    "    - 2 = Classe Média\n",
    "    - 3 = Classe Baixa\n",
    "- Name, Sex e Age não precisam de explicação\n",
    "- SibSp é o número total de irmãos e cônjuges dos passageiros\n",
    "- Parch é o número total de pais e filhos dos passageiros\n",
    "- Ticket é o número do bilhete do passageiro\n",
    "- A Fare é a tarifa do passageiro\n",
    "- Cabin é o número da cabine do passageiro\n",
    "- Embarked é o porto de embarque e é uma característica categórica que possui 3 valores únicos (C, Q ou S):\n",
    "    - C = Cherbourg\n",
    "    - Q = Queenstown\n",
    "    - S = Southampton"
   ],
   "cell_type": "markdown",
   "metadata": {}
  },
  {
   "cell_type": "code",
   "execution_count": 1,
   "metadata": {},
   "outputs": [],
   "source": [
    "import numpy as np\n",
    "import pandas as pd\n",
    "\n",
    "import matplotlib.pyplot as plt\n",
    "import seaborn as sns\n",
    "sns.set(style=\"darkgrid\")\n",
    "\n",
    "from sklearn.ensemble import RandomForestClassifier\n",
    "from sklearn.preprocessing import OneHotEncoder, LabelEncoder, StandardScaler\n",
    "from sklearn.metrics import roc_curve, auc\n",
    "from sklearn.model_selection import StratifiedKFold\n",
    "\n",
    "import string\n",
    "import warnings\n",
    "warnings.filterwarnings('ignore')\n",
    "\n",
    "SEED = 42"
   ]
  },
  {
   "source": [
    "O arquivo de treinamento tem 891 linhas e o arquivo de teste tem 418 linhas\n",
    "\n",
    "O arquivo de treinamento tem 12 recursos e o arquivo de teste tem 11 recursos\n",
    "\n",
    "A Variável alvo do é Survived que não consta no arquivo de teste"
   ],
   "cell_type": "markdown",
   "metadata": {}
  },
  {
   "cell_type": "code",
   "execution_count": null,
   "metadata": {},
   "outputs": [],
   "source": []
  }
 ]
}